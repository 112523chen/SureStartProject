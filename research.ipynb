{
 "cells": [
  {
   "cell_type": "code",
   "execution_count": 1,
   "metadata": {},
   "outputs": [],
   "source": [
    "import opendatasets as od\n",
    "import pandas as pd\n",
    "from matplotlib import pyplot as plt\n",
    "import pickle\n",
    "import re\n",
    "\n",
    "from sklearn.model_selection import train_test_split\n",
    "from sklearn.feature_extraction.text import CountVectorizer\n",
    "from sklearn.feature_extraction.text import TfidfVectorizer\n",
    "from sklearn.metrics import confusion_matrix\n",
    "from sklearn.metrics import ConfusionMatrixDisplay\n",
    "from sklearn.metrics import classification_report\n",
    "\n",
    "from nltk.tokenize import wordpunct_tokenize\n",
    "\n",
    "import tensorflow as tf"
   ]
  },
  {
   "cell_type": "code",
   "execution_count": 2,
   "metadata": {},
   "outputs": [
    {
     "name": "stdout",
     "output_type": "stream",
     "text": [
      "Skipping, found downloaded files in \"./textdb3\" (use force=True to force download)\n"
     ]
    }
   ],
   "source": [
    "#import data from kaggle\n",
    "od.download(\"https://www.kaggle.com/datasets/hassanamin/textdb3\")"
   ]
  },
  {
   "cell_type": "code",
   "execution_count": 3,
   "metadata": {},
   "outputs": [
    {
     "data": {
      "text/html": [
       "<div>\n",
       "<style scoped>\n",
       "    .dataframe tbody tr th:only-of-type {\n",
       "        vertical-align: middle;\n",
       "    }\n",
       "\n",
       "    .dataframe tbody tr th {\n",
       "        vertical-align: top;\n",
       "    }\n",
       "\n",
       "    .dataframe thead th {\n",
       "        text-align: right;\n",
       "    }\n",
       "</style>\n",
       "<table border=\"1\" class=\"dataframe\">\n",
       "  <thead>\n",
       "    <tr style=\"text-align: right;\">\n",
       "      <th></th>\n",
       "      <th>Unnamed: 0</th>\n",
       "      <th>title</th>\n",
       "      <th>text</th>\n",
       "      <th>label</th>\n",
       "    </tr>\n",
       "  </thead>\n",
       "  <tbody>\n",
       "    <tr>\n",
       "      <th>0</th>\n",
       "      <td>8476</td>\n",
       "      <td>You Can Smell Hillary’s Fear</td>\n",
       "      <td>Daniel Greenfield, a Shillman Journalism Fello...</td>\n",
       "      <td>FAKE</td>\n",
       "    </tr>\n",
       "    <tr>\n",
       "      <th>1</th>\n",
       "      <td>10294</td>\n",
       "      <td>Watch The Exact Moment Paul Ryan Committed Pol...</td>\n",
       "      <td>Google Pinterest Digg Linkedin Reddit Stumbleu...</td>\n",
       "      <td>FAKE</td>\n",
       "    </tr>\n",
       "    <tr>\n",
       "      <th>2</th>\n",
       "      <td>3608</td>\n",
       "      <td>Kerry to go to Paris in gesture of sympathy</td>\n",
       "      <td>U.S. Secretary of State John F. Kerry said Mon...</td>\n",
       "      <td>REAL</td>\n",
       "    </tr>\n",
       "    <tr>\n",
       "      <th>3</th>\n",
       "      <td>10142</td>\n",
       "      <td>Bernie supporters on Twitter erupt in anger ag...</td>\n",
       "      <td>— Kaydee King (@KaydeeKing) November 9, 2016 T...</td>\n",
       "      <td>FAKE</td>\n",
       "    </tr>\n",
       "    <tr>\n",
       "      <th>4</th>\n",
       "      <td>875</td>\n",
       "      <td>The Battle of New York: Why This Primary Matters</td>\n",
       "      <td>It's primary day in New York and front-runners...</td>\n",
       "      <td>REAL</td>\n",
       "    </tr>\n",
       "  </tbody>\n",
       "</table>\n",
       "</div>"
      ],
      "text/plain": [
       "   Unnamed: 0                                              title  \\\n",
       "0        8476                       You Can Smell Hillary’s Fear   \n",
       "1       10294  Watch The Exact Moment Paul Ryan Committed Pol...   \n",
       "2        3608        Kerry to go to Paris in gesture of sympathy   \n",
       "3       10142  Bernie supporters on Twitter erupt in anger ag...   \n",
       "4         875   The Battle of New York: Why This Primary Matters   \n",
       "\n",
       "                                                text label  \n",
       "0  Daniel Greenfield, a Shillman Journalism Fello...  FAKE  \n",
       "1  Google Pinterest Digg Linkedin Reddit Stumbleu...  FAKE  \n",
       "2  U.S. Secretary of State John F. Kerry said Mon...  REAL  \n",
       "3  — Kaydee King (@KaydeeKing) November 9, 2016 T...  FAKE  \n",
       "4  It's primary day in New York and front-runners...  REAL  "
      ]
     },
     "execution_count": 3,
     "metadata": {},
     "output_type": "execute_result"
    }
   ],
   "source": [
    "#create a df for the data\n",
    "df = pd.read_csv(\"textdb3/fake_or_real_news.csv\")\n",
    "df.head()"
   ]
  },
  {
   "cell_type": "code",
   "execution_count": 4,
   "metadata": {},
   "outputs": [],
   "source": [
    "#create helper functions\n",
    "def convertLabelsToBinary(label):\n",
    "  if label == \"FAKE\":\n",
    "    return 1\n",
    "  return 0\n",
    "\n",
    "def removeNewLine(text):\n",
    "  return re.sub(r'\\n', '', text)\n",
    "\n",
    "def removeSpecialCharacters(text):\n",
    "  return re.sub(r'[^\\w\\s]', '', text)\n",
    "\n",
    "def cleanText(text):\n",
    "  text = removeNewLine(text)\n",
    "  text = removeSpecialCharacters(text)\n",
    "  return text"
   ]
  },
  {
   "cell_type": "code",
   "execution_count": 5,
   "metadata": {},
   "outputs": [],
   "source": [
    "\n",
    "#! create NLP pipeline\n",
    "\n",
    "# title_martix - numpy like object with the shape of (m,1) where m is number of title samples\n",
    "# text_matrix - numpy like obejct with the shape of (m,1) where m is number of text samples\n",
    "# label_matrix - numpy like object with the shape of (m,1) where m is number of label samples\n",
    "# test_size - split of the data that will be used for testing the model\n",
    "# vectorizer_method - tfidf (default), BoW\n",
    "# n_gram_n_min - smallest number of words grouped to together for n_grams (default is 1 word)\n",
    "# n_gram_n_max - largest number of words grouped to together for n_grams (default is 1 word)\n",
    "# min_df - threshold of frequency of words within dataset (default is 0.01 : if word in used in less than 1% of the document it will be removed)\n",
    "\n",
    "def pipeline2(title_matrix, text_matrix, label_matrix, tokenizer, test_size=0.2, vectorizer_method=\"tfidf\", n_gram_n_min=1, n_gram_n_max=1, min_df=0.01 ):\n",
    "\n",
    "  data = pd.concat([title_matrix, text_matrix, label_matrix], axis=1).reset_index()\n",
    "  print(\"Combined Data\")\n",
    "\n",
    "  #updates labels to values of 0 and 1 where 1 is fake\n",
    "  data['label'] = data['label'].apply(convertLabelsToBinary)\n",
    "  print(\"Updated Labels\")\n",
    "\n",
    "  #creates a new column for cleaned up verison of data \n",
    "  data['text'] = data['text'].apply(removeNewLine)\n",
    "  data['text'] = data['text'].apply(removeSpecialCharacters)\n",
    "  print(\"Cleaned Up Text\")\n",
    "\n",
    "  data['words'] =  data['title'] + \" \" + data['text']\n",
    "  print(\"Added Title\")\n",
    " \n",
    "  #splitting up the data\n",
    "  X_train, X_test, y_train, y_test = train_test_split(data['words'], data['label'], test_size=test_size, random_state=42)\n",
    "  print(\"Splited Data\")\n",
    "\n",
    "  #joining the input data for vectorization\n",
    "  X_temp = pd.concat([X_train,X_test])\n",
    "  print(\"Combined Data\")\n",
    "\n",
    "  #preforms vectorization \n",
    "  vectorizer = TfidfVectorizer(ngram_range=(n_gram_n_min,n_gram_n_max), analyzer=\"word\", lowercase=True, tokenizer=tokenizer, stop_words='english', min_df=min_df )\n",
    "  if vectorizer_method == \"BoW\":\n",
    "    vectorizer = CountVectorizer(ngram_range=(n_gram_n_min,n_gram_n_max), analyzer=\"word\", lowercase=True, tokenizer=tokenizer, stop_words='english', min_df=min_df )\n",
    "  vectorizer.fit(X_temp)\n",
    "  X_train = vectorizer.transform(X_train).toarray()\n",
    "  X_test = vectorizer.transform(X_test).toarray()\n",
    "  print(\"Vectorized Data\")\n",
    "\n",
    "  return X_train, X_test, y_train, y_test, vectorizer, X_train.shape"
   ]
  },
  {
   "cell_type": "code",
   "execution_count": 6,
   "metadata": {},
   "outputs": [
    {
     "name": "stdout",
     "output_type": "stream",
     "text": [
      "Combined Data\n",
      "Updated Labels\n",
      "Cleaned Up Text\n",
      "Added Title\n",
      "Splited Data\n",
      "Combined Data\n"
     ]
    },
    {
     "name": "stderr",
     "output_type": "stream",
     "text": [
      "/opt/homebrew/Caskroom/miniconda/base/envs/tf/lib/python3.9/site-packages/sklearn/feature_extraction/text.py:528: UserWarning: The parameter 'token_pattern' will not be used since 'tokenizer' is not None'\n",
      "  warnings.warn(\n"
     ]
    },
    {
     "name": "stdout",
     "output_type": "stream",
     "text": [
      "Vectorized Data\n"
     ]
    }
   ],
   "source": [
    "# Collect Data and Objects\n",
    "X_train, X_test, y_train, y_test, vectorizer, input_shape = pipeline2(df['title'], df['text'], df['label'], wordpunct_tokenize, \n",
    "vectorizer_method=\"tfidf\", test_size=0.2, n_gram_n_min=1, n_gram_n_max=1, min_df=0.01)"
   ]
  },
  {
   "cell_type": "code",
   "execution_count": 7,
   "metadata": {},
   "outputs": [
    {
     "name": "stderr",
     "output_type": "stream",
     "text": [
      "2023-03-07 07:42:49.086229: I tensorflow/core/common_runtime/pluggable_device/pluggable_device_factory.cc:305] Could not identify NUMA node of platform GPU ID 0, defaulting to 0. Your kernel may not have been built with NUMA support.\n",
      "2023-03-07 07:42:49.086371: I tensorflow/core/common_runtime/pluggable_device/pluggable_device_factory.cc:271] Created TensorFlow device (/job:localhost/replica:0/task:0/device:GPU:0 with 0 MB memory) -> physical PluggableDevice (device: 0, name: METAL, pci bus id: <undefined>)\n"
     ]
    },
    {
     "name": "stdout",
     "output_type": "stream",
     "text": [
      "Metal device set to: Apple M1 Pro\n",
      "\n",
      "systemMemory: 16.00 GB\n",
      "maxCacheSize: 5.33 GB\n",
      "\n",
      "Model: \"sequential\"\n",
      "_________________________________________________________________\n",
      " Layer (type)                Output Shape              Param #   \n",
      "=================================================================\n",
      " dense (Dense)               (None, None, 128)         615424    \n",
      "                                                                 \n",
      " dense_1 (Dense)             (None, None, 64)          8256      \n",
      "                                                                 \n",
      " dense_2 (Dense)             (None, None, 32)          2080      \n",
      "                                                                 \n",
      " dense_3 (Dense)             (None, None, 16)          528       \n",
      "                                                                 \n",
      " dense_4 (Dense)             (None, None, 8)           136       \n",
      "                                                                 \n",
      " dense_5 (Dense)             (None, None, 4)           36        \n",
      "                                                                 \n",
      " dense_6 (Dense)             (None, None, 2)           10        \n",
      "                                                                 \n",
      " dense_7 (Dense)             (None, None, 1)           3         \n",
      "                                                                 \n",
      "=================================================================\n",
      "Total params: 626,473\n",
      "Trainable params: 626,473\n",
      "Non-trainable params: 0\n",
      "_________________________________________________________________\n"
     ]
    }
   ],
   "source": [
    "# Creating a Deep Learning Model\n",
    "\n",
    "model = tf.keras.Sequential([\n",
    "    tf.keras.layers.Dense(128, input_shape=( None, input_shape[1]), activation='relu'),\n",
    "    tf.keras.layers.Dense(64, activation='relu'),\n",
    "    tf.keras.layers.Dense(32, activation='relu'),\n",
    "    tf.keras.layers.Dense(16, activation='relu'),\n",
    "    tf.keras.layers.Dense(8, activation='relu'),\n",
    "    tf.keras.layers.Dense(4, activation='relu'),\n",
    "    tf.keras.layers.Dense(2, activation='relu'),\n",
    "    tf.keras.layers.Dense(1, activation='sigmoid')\n",
    "  ])\n",
    "\n",
    "model.summary()\n",
    "model.compile(optimizer=tf.keras.optimizers.Adam(), loss='binary_crossentropy', metrics=['accuracy'])"
   ]
  },
  {
   "cell_type": "code",
   "execution_count": 8,
   "metadata": {},
   "outputs": [
    {
     "name": "stdout",
     "output_type": "stream",
     "text": [
      "Epoch 1/50\n",
      "WARNING:tensorflow:Model was constructed with shape (None, None, 4807) for input KerasTensor(type_spec=TensorSpec(shape=(None, None, 4807), dtype=tf.float32, name='dense_input'), name='dense_input', description=\"created by layer 'dense_input'\"), but it was called on an input with incompatible shape (None, 4807).\n",
      "WARNING:tensorflow:Model was constructed with shape (None, None, 4807) for input KerasTensor(type_spec=TensorSpec(shape=(None, None, 4807), dtype=tf.float32, name='dense_input'), name='dense_input', description=\"created by layer 'dense_input'\"), but it was called on an input with incompatible shape (None, 4807).\n"
     ]
    },
    {
     "name": "stderr",
     "output_type": "stream",
     "text": [
      "2023-03-07 07:42:52.146255: W tensorflow/core/platform/profile_utils/cpu_utils.cc:128] Failed to get CPU frequency: 0 Hz\n",
      "2023-03-07 07:42:52.412645: I tensorflow/core/grappler/optimizers/custom_graph_optimizer_registry.cc:113] Plugin optimizer for device_type GPU is enabled.\n"
     ]
    },
    {
     "name": "stdout",
     "output_type": "stream",
     "text": [
      "159/159 [==============================] - ETA: 0s - loss: 0.3619 - accuracy: 0.8451WARNING:tensorflow:Model was constructed with shape (None, None, 4807) for input KerasTensor(type_spec=TensorSpec(shape=(None, None, 4807), dtype=tf.float32, name='dense_input'), name='dense_input', description=\"created by layer 'dense_input'\"), but it was called on an input with incompatible shape (None, 4807).\n"
     ]
    },
    {
     "name": "stderr",
     "output_type": "stream",
     "text": [
      "2023-03-07 07:42:54.560081: I tensorflow/core/grappler/optimizers/custom_graph_optimizer_registry.cc:113] Plugin optimizer for device_type GPU is enabled.\n"
     ]
    },
    {
     "name": "stdout",
     "output_type": "stream",
     "text": [
      "159/159 [==============================] - 3s 13ms/step - loss: 0.3619 - accuracy: 0.8451 - val_loss: 0.2008 - val_accuracy: 0.9250\n",
      "Epoch 2/50\n",
      "159/159 [==============================] - 2s 12ms/step - loss: 0.0825 - accuracy: 0.9742 - val_loss: 0.2457 - val_accuracy: 0.9084\n",
      "Epoch 3/50\n",
      "159/159 [==============================] - 2s 12ms/step - loss: 0.0303 - accuracy: 0.9901 - val_loss: 0.2447 - val_accuracy: 0.9329\n",
      "Epoch 4/50\n",
      "159/159 [==============================] - 2s 11ms/step - loss: 0.0081 - accuracy: 0.9984 - val_loss: 0.3020 - val_accuracy: 0.9345\n",
      "Epoch 5/50\n",
      "159/159 [==============================] - 2s 11ms/step - loss: 0.0021 - accuracy: 0.9996 - val_loss: 0.3311 - val_accuracy: 0.9290\n",
      "Epoch 6/50\n",
      "159/159 [==============================] - 2s 11ms/step - loss: 6.4336e-04 - accuracy: 1.0000 - val_loss: 0.3577 - val_accuracy: 0.9321\n",
      "Epoch 7/50\n",
      "159/159 [==============================] - 2s 12ms/step - loss: 2.1555e-04 - accuracy: 1.0000 - val_loss: 0.3785 - val_accuracy: 0.9337\n",
      "Epoch 8/50\n",
      "159/159 [==============================] - 2s 11ms/step - loss: 1.3588e-04 - accuracy: 1.0000 - val_loss: 0.3966 - val_accuracy: 0.9369\n",
      "Epoch 9/50\n",
      "159/159 [==============================] - 2s 11ms/step - loss: 9.5569e-05 - accuracy: 1.0000 - val_loss: 0.4109 - val_accuracy: 0.9369\n",
      "Epoch 10/50\n",
      "159/159 [==============================] - 2s 11ms/step - loss: 7.0928e-05 - accuracy: 1.0000 - val_loss: 0.4228 - val_accuracy: 0.9369\n",
      "Epoch 11/50\n",
      "159/159 [==============================] - 2s 11ms/step - loss: 5.4623e-05 - accuracy: 1.0000 - val_loss: 0.4340 - val_accuracy: 0.9369\n",
      "Epoch 12/50\n",
      "159/159 [==============================] - 2s 11ms/step - loss: 4.3129e-05 - accuracy: 1.0000 - val_loss: 0.4443 - val_accuracy: 0.9369\n",
      "Epoch 13/50\n",
      "159/159 [==============================] - 2s 11ms/step - loss: 3.4830e-05 - accuracy: 1.0000 - val_loss: 0.4529 - val_accuracy: 0.9369\n",
      "Epoch 14/50\n",
      "159/159 [==============================] - 2s 11ms/step - loss: 2.8538e-05 - accuracy: 1.0000 - val_loss: 0.4610 - val_accuracy: 0.9361\n",
      "Epoch 15/50\n",
      "159/159 [==============================] - 2s 11ms/step - loss: 2.3667e-05 - accuracy: 1.0000 - val_loss: 0.4694 - val_accuracy: 0.9361\n",
      "Epoch 16/50\n",
      "159/159 [==============================] - 2s 11ms/step - loss: 1.9821e-05 - accuracy: 1.0000 - val_loss: 0.4767 - val_accuracy: 0.9361\n",
      "Epoch 17/50\n",
      "159/159 [==============================] - 2s 11ms/step - loss: 1.6694e-05 - accuracy: 1.0000 - val_loss: 0.4843 - val_accuracy: 0.9361\n",
      "Epoch 18/50\n",
      "159/159 [==============================] - 2s 11ms/step - loss: 1.4249e-05 - accuracy: 1.0000 - val_loss: 0.4910 - val_accuracy: 0.9361\n",
      "Epoch 19/50\n",
      "159/159 [==============================] - 2s 11ms/step - loss: 1.2237e-05 - accuracy: 1.0000 - val_loss: 0.4973 - val_accuracy: 0.9361\n",
      "Epoch 20/50\n",
      "159/159 [==============================] - 2s 11ms/step - loss: 1.0577e-05 - accuracy: 1.0000 - val_loss: 0.5035 - val_accuracy: 0.9361\n",
      "Epoch 21/50\n",
      "159/159 [==============================] - 2s 12ms/step - loss: 9.1886e-06 - accuracy: 1.0000 - val_loss: 0.5099 - val_accuracy: 0.9361\n",
      "Epoch 22/50\n",
      "159/159 [==============================] - 2s 12ms/step - loss: 8.0150e-06 - accuracy: 1.0000 - val_loss: 0.5154 - val_accuracy: 0.9361\n",
      "Epoch 23/50\n",
      "159/159 [==============================] - 2s 12ms/step - loss: 7.0149e-06 - accuracy: 1.0000 - val_loss: 0.5212 - val_accuracy: 0.9361\n",
      "Epoch 24/50\n",
      "159/159 [==============================] - 2s 11ms/step - loss: 6.1632e-06 - accuracy: 1.0000 - val_loss: 0.5265 - val_accuracy: 0.9361\n",
      "Epoch 25/50\n",
      "159/159 [==============================] - 2s 12ms/step - loss: 5.4358e-06 - accuracy: 1.0000 - val_loss: 0.5321 - val_accuracy: 0.9361\n",
      "Epoch 26/50\n",
      "159/159 [==============================] - 2s 11ms/step - loss: 4.8063e-06 - accuracy: 1.0000 - val_loss: 0.5373 - val_accuracy: 0.9361\n",
      "Epoch 27/50\n",
      "159/159 [==============================] - 2s 11ms/step - loss: 4.2620e-06 - accuracy: 1.0000 - val_loss: 0.5425 - val_accuracy: 0.9361\n",
      "Epoch 28/50\n",
      "159/159 [==============================] - 2s 11ms/step - loss: 3.7846e-06 - accuracy: 1.0000 - val_loss: 0.5473 - val_accuracy: 0.9361\n",
      "Epoch 29/50\n",
      "159/159 [==============================] - 2s 11ms/step - loss: 3.3671e-06 - accuracy: 1.0000 - val_loss: 0.5521 - val_accuracy: 0.9361\n",
      "Epoch 30/50\n",
      "159/159 [==============================] - 2s 11ms/step - loss: 3.0041e-06 - accuracy: 1.0000 - val_loss: 0.5568 - val_accuracy: 0.9361\n",
      "Epoch 31/50\n",
      "159/159 [==============================] - 2s 12ms/step - loss: 2.6782e-06 - accuracy: 1.0000 - val_loss: 0.5620 - val_accuracy: 0.9361\n",
      "Epoch 32/50\n",
      "159/159 [==============================] - 2s 11ms/step - loss: 2.3972e-06 - accuracy: 1.0000 - val_loss: 0.5664 - val_accuracy: 0.9361\n",
      "Epoch 33/50\n",
      "159/159 [==============================] - 2s 11ms/step - loss: 2.1499e-06 - accuracy: 1.0000 - val_loss: 0.5710 - val_accuracy: 0.9361\n",
      "Epoch 34/50\n",
      "159/159 [==============================] - 2s 10ms/step - loss: 1.9289e-06 - accuracy: 1.0000 - val_loss: 0.5754 - val_accuracy: 0.9361\n",
      "Epoch 35/50\n",
      "159/159 [==============================] - 2s 11ms/step - loss: 1.7314e-06 - accuracy: 1.0000 - val_loss: 0.5801 - val_accuracy: 0.9361\n",
      "Epoch 36/50\n",
      "159/159 [==============================] - 2s 11ms/step - loss: 1.5578e-06 - accuracy: 1.0000 - val_loss: 0.5843 - val_accuracy: 0.9361\n",
      "Epoch 37/50\n",
      "159/159 [==============================] - 2s 11ms/step - loss: 1.4010e-06 - accuracy: 1.0000 - val_loss: 0.5890 - val_accuracy: 0.9361\n",
      "Epoch 38/50\n",
      "159/159 [==============================] - 2s 11ms/step - loss: 1.2629e-06 - accuracy: 1.0000 - val_loss: 0.5932 - val_accuracy: 0.9361\n",
      "Epoch 39/50\n",
      "159/159 [==============================] - 2s 11ms/step - loss: 1.1371e-06 - accuracy: 1.0000 - val_loss: 0.5976 - val_accuracy: 0.9361\n",
      "Epoch 40/50\n",
      "159/159 [==============================] - 2s 12ms/step - loss: 1.0256e-06 - accuracy: 1.0000 - val_loss: 0.6020 - val_accuracy: 0.9361\n",
      "Epoch 41/50\n",
      "159/159 [==============================] - 2s 11ms/step - loss: 9.2608e-07 - accuracy: 1.0000 - val_loss: 0.6062 - val_accuracy: 0.9361\n",
      "Epoch 42/50\n",
      "159/159 [==============================] - 2s 12ms/step - loss: 8.3777e-07 - accuracy: 1.0000 - val_loss: 0.6104 - val_accuracy: 0.9361\n",
      "Epoch 43/50\n",
      "159/159 [==============================] - 2s 11ms/step - loss: 7.5808e-07 - accuracy: 1.0000 - val_loss: 0.6144 - val_accuracy: 0.9361\n",
      "Epoch 44/50\n",
      "159/159 [==============================] - 2s 11ms/step - loss: 6.8551e-07 - accuracy: 1.0000 - val_loss: 0.6187 - val_accuracy: 0.9361\n",
      "Epoch 45/50\n",
      "159/159 [==============================] - 2s 11ms/step - loss: 6.1842e-07 - accuracy: 1.0000 - val_loss: 0.6234 - val_accuracy: 0.9369\n",
      "Epoch 46/50\n",
      "159/159 [==============================] - 2s 11ms/step - loss: 5.5601e-07 - accuracy: 1.0000 - val_loss: 0.6283 - val_accuracy: 0.9369\n",
      "Epoch 47/50\n",
      "159/159 [==============================] - 2s 11ms/step - loss: 4.9993e-07 - accuracy: 1.0000 - val_loss: 0.6328 - val_accuracy: 0.9369\n",
      "Epoch 48/50\n",
      "159/159 [==============================] - 2s 11ms/step - loss: 4.4809e-07 - accuracy: 1.0000 - val_loss: 0.6380 - val_accuracy: 0.9369\n",
      "Epoch 49/50\n",
      "159/159 [==============================] - 2s 12ms/step - loss: 3.9924e-07 - accuracy: 1.0000 - val_loss: 0.6436 - val_accuracy: 0.9369\n",
      "Epoch 50/50\n",
      "159/159 [==============================] - 2s 11ms/step - loss: 3.5450e-07 - accuracy: 1.0000 - val_loss: 0.6496 - val_accuracy: 0.9361\n"
     ]
    }
   ],
   "source": [
    "# Training Deep Learning Model\n",
    "EPOCHS_VALUE = 50\n",
    "history = model.fit(X_train, y_train, epochs=EPOCHS_VALUE, validation_data=(X_test, y_test))"
   ]
  },
  {
   "cell_type": "code",
   "execution_count": 9,
   "metadata": {},
   "outputs": [],
   "source": [
    "# Selecting Data About Model\n",
    "acc = history.history['accuracy']\n",
    "val_acc = history.history['val_accuracy']\n",
    "loss = history.history['loss']\n",
    "val_loss = history.history['val_loss']\n",
    "epochs_range = range(EPOCHS_VALUE)"
   ]
  },
  {
   "cell_type": "code",
   "execution_count": 10,
   "metadata": {},
   "outputs": [
    {
     "data": {
      "image/png": "[encoded data removed]",
      "text/plain": [
       "<Figure size 640x480 with 1 Axes>"
      ]
     },
     "metadata": {},
     "output_type": "display_data"
    }
   ],
   "source": [
    "#Plotting Accuracy Across Epochs\n",
    "acc = history.history['accuracy']\n",
    "val_acc = history.history['val_accuracy']\n",
    "loss = history.history['loss']\n",
    "val_loss = history.history['val_loss']\n",
    "plt.plot(epochs_range, acc, label='Training Accuracy')\n",
    "plt.plot(epochs_range, val_acc, label='Validation Accuracy')\n",
    "plt.xlabel(\"Epochs\")\n",
    "plt.ylabel(\"Accuracy\")\n",
    "plt.title('Training and Validation Accuracy')\n",
    "plt.legend()\n",
    "plt.show()"
   ]
  },
  {
   "cell_type": "code",
   "execution_count": 11,
   "metadata": {},
   "outputs": [
    {
     "data": {
      "image/png": "[encoded data removed]",
      "text/plain": [
       "<Figure size 640x480 with 1 Axes>"
      ]
     },
     "metadata": {},
     "output_type": "display_data"
    }
   ],
   "source": [
    "#Plotting Loss Across Epochs\n",
    "plt.plot(epochs_range, loss, label='Training Loss')\n",
    "plt.plot(epochs_range, val_loss, label='Validation Loss')\n",
    "plt.xlabel(\"Epochs\")\n",
    "plt.ylabel(\"Validation Loss\")\n",
    "plt.title('Training and Validation Loss')\n",
    "plt.legend()\n",
    "plt.show()"
   ]
  },
  {
   "cell_type": "code",
   "execution_count": 12,
   "metadata": {},
   "outputs": [
    {
     "name": "stdout",
     "output_type": "stream",
     "text": [
      "WARNING:tensorflow:Model was constructed with shape (None, None, 4807) for input KerasTensor(type_spec=TensorSpec(shape=(None, None, 4807), dtype=tf.float32, name='dense_input'), name='dense_input', description=\"created by layer 'dense_input'\"), but it was called on an input with incompatible shape (None, 4807).\n",
      "28/40 [====================>.........] - ETA: 0s"
     ]
    },
    {
     "name": "stderr",
     "output_type": "stream",
     "text": [
      "2023-03-07 07:48:27.058172: I tensorflow/core/grappler/optimizers/custom_graph_optimizer_registry.cc:113] Plugin optimizer for device_type GPU is enabled.\n"
     ]
    },
    {
     "name": "stdout",
     "output_type": "stream",
     "text": [
      "40/40 [==============================] - 0s 4ms/step\n"
     ]
    }
   ],
   "source": [
    "# Collecting Predictions with New Data\n",
    "y_pred = model.predict(X_test).round()"
   ]
  },
  {
   "cell_type": "code",
   "execution_count": 13,
   "metadata": {},
   "outputs": [
    {
     "data": {
      "image/png": "[encoded data removed]",
      "text/plain": [
       "<Figure size 640x480 with 2 Axes>"
      ]
     },
     "metadata": {},
     "output_type": "display_data"
    }
   ],
   "source": [
    "# Plotting Model's Confusion Matrix \n",
    "cm = confusion_matrix(y_test, y_pred)\n",
    "disp = ConfusionMatrixDisplay(confusion_matrix=cm)\n",
    "disp.plot(cmap=plt.cm.Blues)\n",
    "plt.show()"
   ]
  },
  {
   "cell_type": "code",
   "execution_count": 14,
   "metadata": {},
   "outputs": [
    {
     "name": "stdout",
     "output_type": "stream",
     "text": [
      "              precision    recall  f1-score   support\n",
      "\n",
      "        REAL       0.92      0.96      0.94       639\n",
      "        FAKE       0.96      0.91      0.93       628\n",
      "\n",
      "    accuracy                           0.94      1267\n",
      "   macro avg       0.94      0.94      0.94      1267\n",
      "weighted avg       0.94      0.94      0.94      1267\n",
      "\n"
     ]
    }
   ],
   "source": [
    "#Getting Classification Report on Model\n",
    "print(classification_report(y_test, y_pred, target_names=['REAL','FAKE',]))"
   ]
  },
  {
   "cell_type": "code",
   "execution_count": null,
   "metadata": {},
   "outputs": [],
   "source": [
    "#saving all the data and objects\n",
    "pickle.dump(vectorizer, open('vectorizer.pkl', 'wb'))\n",
    "pickle.dump(model, open('deepLearningModel.pkl', 'wb'))\n",
    "model.save('deepLearningModel')"
   ]
  }
 ],
 "metadata": {
  "kernelspec": {
   "display_name": "Python 3",
   "language": "python",
   "name": "python3"
  },
  "language_info": {
   "codemirror_mode": {
    "name": "ipython",
    "version": 3
   },
   "file_extension": ".py",
   "mimetype": "text/x-python",
   "name": "python",
   "nbconvert_exporter": "python",
   "pygments_lexer": "ipython3",
   "version": "3.9.16"
  },
  "orig_nbformat": 4
 },
 "nbformat": 4,
 "nbformat_minor": 2
}
