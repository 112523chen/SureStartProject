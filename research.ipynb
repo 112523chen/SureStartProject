{
 "cells": [
  {
   "cell_type": "code",
   "execution_count": 17,
   "metadata": {},
   "outputs": [],
   "source": [
    "import opendatasets as od\n",
    "import pandas as pd\n",
    "from matplotlib import pyplot as plt\n",
    "import pickle\n",
    "import re\n",
    "\n",
    "from sklearn.model_selection import train_test_split\n",
    "from sklearn.feature_extraction.text import CountVectorizer\n",
    "from sklearn.feature_extraction.text import TfidfVectorizer\n",
    "from sklearn.metrics import confusion_matrix\n",
    "from sklearn.metrics import ConfusionMatrixDisplay\n",
    "from sklearn.metrics import classification_report\n",
    "\n",
    "from nltk.tokenize import wordpunct_tokenize\n",
    "\n",
    "import tensorflow as tf"
   ]
  },
  {
   "cell_type": "code",
   "execution_count": null,
   "metadata": {},
   "outputs": [],
   "source": [
    "#import data from kaggle\n",
    "od.download(\"https://www.kaggle.com/datasets/hassanamin/textdb3\")"
   ]
  },
  {
   "cell_type": "code",
   "execution_count": 3,
   "metadata": {},
   "outputs": [
    {
     "data": {
      "text/html": [
       "<div>\n",
       "<style scoped>\n",
       "    .dataframe tbody tr th:only-of-type {\n",
       "        vertical-align: middle;\n",
       "    }\n",
       "\n",
       "    .dataframe tbody tr th {\n",
       "        vertical-align: top;\n",
       "    }\n",
       "\n",
       "    .dataframe thead th {\n",
       "        text-align: right;\n",
       "    }\n",
       "</style>\n",
       "<table border=\"1\" class=\"dataframe\">\n",
       "  <thead>\n",
       "    <tr style=\"text-align: right;\">\n",
       "      <th></th>\n",
       "      <th>Unnamed: 0</th>\n",
       "      <th>title</th>\n",
       "      <th>text</th>\n",
       "      <th>label</th>\n",
       "    </tr>\n",
       "  </thead>\n",
       "  <tbody>\n",
       "    <tr>\n",
       "      <th>0</th>\n",
       "      <td>8476</td>\n",
       "      <td>You Can Smell Hillary’s Fear</td>\n",
       "      <td>Daniel Greenfield, a Shillman Journalism Fello...</td>\n",
       "      <td>FAKE</td>\n",
       "    </tr>\n",
       "    <tr>\n",
       "      <th>1</th>\n",
       "      <td>10294</td>\n",
       "      <td>Watch The Exact Moment Paul Ryan Committed Pol...</td>\n",
       "      <td>Google Pinterest Digg Linkedin Reddit Stumbleu...</td>\n",
       "      <td>FAKE</td>\n",
       "    </tr>\n",
       "    <tr>\n",
       "      <th>2</th>\n",
       "      <td>3608</td>\n",
       "      <td>Kerry to go to Paris in gesture of sympathy</td>\n",
       "      <td>U.S. Secretary of State John F. Kerry said Mon...</td>\n",
       "      <td>REAL</td>\n",
       "    </tr>\n",
       "    <tr>\n",
       "      <th>3</th>\n",
       "      <td>10142</td>\n",
       "      <td>Bernie supporters on Twitter erupt in anger ag...</td>\n",
       "      <td>— Kaydee King (@KaydeeKing) November 9, 2016 T...</td>\n",
       "      <td>FAKE</td>\n",
       "    </tr>\n",
       "    <tr>\n",
       "      <th>4</th>\n",
       "      <td>875</td>\n",
       "      <td>The Battle of New York: Why This Primary Matters</td>\n",
       "      <td>It's primary day in New York and front-runners...</td>\n",
       "      <td>REAL</td>\n",
       "    </tr>\n",
       "  </tbody>\n",
       "</table>\n",
       "</div>"
      ],
      "text/plain": [
       "   Unnamed: 0                                              title  \\\n",
       "0        8476                       You Can Smell Hillary’s Fear   \n",
       "1       10294  Watch The Exact Moment Paul Ryan Committed Pol...   \n",
       "2        3608        Kerry to go to Paris in gesture of sympathy   \n",
       "3       10142  Bernie supporters on Twitter erupt in anger ag...   \n",
       "4         875   The Battle of New York: Why This Primary Matters   \n",
       "\n",
       "                                                text label  \n",
       "0  Daniel Greenfield, a Shillman Journalism Fello...  FAKE  \n",
       "1  Google Pinterest Digg Linkedin Reddit Stumbleu...  FAKE  \n",
       "2  U.S. Secretary of State John F. Kerry said Mon...  REAL  \n",
       "3  — Kaydee King (@KaydeeKing) November 9, 2016 T...  FAKE  \n",
       "4  It's primary day in New York and front-runners...  REAL  "
      ]
     },
     "execution_count": 3,
     "metadata": {},
     "output_type": "execute_result"
    }
   ],
   "source": [
    "#create a df for the data\n",
    "df = pd.read_csv(\"textdb3/fake_or_real_news.csv\")\n",
    "df.head()"
   ]
  },
  {
   "cell_type": "code",
   "execution_count": 4,
   "metadata": {},
   "outputs": [],
   "source": [
    "#create helper functions\n",
    "def convertLabelsToBinary(label):\n",
    "  if label == \"FAKE\":\n",
    "    return 1\n",
    "  return 0\n",
    "\n",
    "def removeNewLine(text):\n",
    "  return re.sub(r'\\n', '', text)\n",
    "\n",
    "def removeSpecialCharacters(text):\n",
    "  return re.sub(r'[^\\w\\s]', '', text)\n",
    "\n",
    "def cleanText(text):\n",
    "  text = removeNewLine(text)\n",
    "  text = removeSpecialCharacters(text)\n",
    "  return text"
   ]
  },
  {
   "cell_type": "code",
   "execution_count": 5,
   "metadata": {},
   "outputs": [],
   "source": [
    "\n",
    "#! create NLP pipeline\n",
    "\n",
    "# title_martix - numpy like object with the shape of (m,1) where m is number of title samples\n",
    "# text_matrix - numpy like obejct with the shape of (m,1) where m is number of text samples\n",
    "# label_matrix - numpy like object with the shape of (m,1) where m is number of label samples\n",
    "# test_size - split of the data that will be used for testing the model\n",
    "# vectorizer_method - tfidf (default), BoW\n",
    "# n_gram_n - number of words grouped to together for n_grams (default is 1 word)\n",
    "# min_df - threshold of frequency of words within dataset (default is 0.01 : if word in used in less than 1% of the document it will be removed)\n",
    "\n",
    "def pipeline2(title_matrix, text_matrix, label_matrix, tokenizer, test_size=0.2, vectorizer_method=\"tfidf\", n_gram_n=1, min_df=0.01 ):\n",
    "\n",
    "  data = pd.concat([title_matrix, text_matrix, label_matrix], axis=1).reset_index()\n",
    "  print(\"Combined Data\")\n",
    "\n",
    "  #updates labels to values of 0 and 1 where 1 is fake\n",
    "  data['label'] = data['label'].apply(convertLabelsToBinary)\n",
    "  print(\"Updated Labels\")\n",
    "\n",
    "  #creates a new column for cleaned up verison of data \n",
    "  data['text'] = data['text'].apply(removeNewLine)\n",
    "  data['text'] = data['text'].apply(removeSpecialCharacters)\n",
    "  print(\"Cleaned Up Text\")\n",
    "\n",
    "  data['words'] =  data['title'] + \" \" + data['text']\n",
    "  print(\"Added Title\")\n",
    " \n",
    "  #splitting up the data\n",
    "  X_train, X_test, y_train, y_test = train_test_split(data['words'], data['label'], test_size=test_size, random_state=42)\n",
    "  print(\"Splited Data\")\n",
    "\n",
    "  #joining the input data for vectorization\n",
    "  X_temp = pd.concat([X_train,X_test])\n",
    "  print(\"Combined Data\")\n",
    "\n",
    "  #preforms vectorization \n",
    "  vectorizer = TfidfVectorizer(ngram_range=(n_gram_n,n_gram_n), analyzer=\"word\", lowercase=True, tokenizer=tokenizer, stop_words='english', min_df=min_df )\n",
    "  if vectorizer_method == \"BoW\":\n",
    "    vectorizer = CountVectorizer(ngram_range=(n_gram_n,n_gram_n), analyzer=\"word\", lowercase=True, tokenizer=tokenizer, stop_words='english', min_df=min_df )\n",
    "  vectorizer.fit(X_temp)\n",
    "  X_train = vectorizer.transform(X_train).toarray()\n",
    "  X_test = vectorizer.transform(X_test).toarray()\n",
    "  print(\"Vectorized Data\")\n",
    "\n",
    "  return X_train, X_test, y_train, y_test, vectorizer, X_train.shape"
   ]
  },
  {
   "cell_type": "code",
   "execution_count": 6,
   "metadata": {},
   "outputs": [
    {
     "name": "stdout",
     "output_type": "stream",
     "text": [
      "Combined Data\n",
      "Updated Labels\n",
      "Cleaned Up Text\n",
      "Added Title\n",
      "Splited Data\n",
      "Combined Data\n"
     ]
    },
    {
     "name": "stderr",
     "output_type": "stream",
     "text": [
      "/opt/homebrew/Caskroom/miniconda/base/lib/python3.10/site-packages/sklearn/feature_extraction/text.py:528: UserWarning: The parameter 'token_pattern' will not be used since 'tokenizer' is not None'\n",
      "  warnings.warn(\n"
     ]
    },
    {
     "name": "stdout",
     "output_type": "stream",
     "text": [
      "Vectorized Data\n"
     ]
    }
   ],
   "source": [
    "# Collect Data and Objects\n",
    "X_train, X_test, y_train, y_test, vectorizer, input_shape = pipeline2(df['title'], df['text'], df['label'], wordpunct_tokenize, vectorizer_method=\"tfidf\", test_size=0.2, n_gram_n=1, min_df=0.01)"
   ]
  },
  {
   "cell_type": "code",
   "execution_count": 44,
   "metadata": {},
   "outputs": [
    {
     "name": "stdout",
     "output_type": "stream",
     "text": [
      "Model: \"sequential_5\"\n",
      "_________________________________________________________________\n",
      " Layer (type)                Output Shape              Param #   \n",
      "=================================================================\n",
      " dense_40 (Dense)            (None, None, 128)         615424    \n",
      "                                                                 \n",
      " dense_41 (Dense)            (None, None, 64)          8256      \n",
      "                                                                 \n",
      " dense_42 (Dense)            (None, None, 32)          2080      \n",
      "                                                                 \n",
      " dense_43 (Dense)            (None, None, 16)          528       \n",
      "                                                                 \n",
      " dense_44 (Dense)            (None, None, 8)           136       \n",
      "                                                                 \n",
      " dense_45 (Dense)            (None, None, 4)           36        \n",
      "                                                                 \n",
      " dense_46 (Dense)            (None, None, 2)           10        \n",
      "                                                                 \n",
      " dense_47 (Dense)            (None, None, 1)           3         \n",
      "                                                                 \n",
      "=================================================================\n",
      "Total params: 626,473\n",
      "Trainable params: 626,473\n",
      "Non-trainable params: 0\n",
      "_________________________________________________________________\n"
     ]
    }
   ],
   "source": [
    "# Creating a Deep Learning Model\n",
    "\n",
    "model = tf.keras.Sequential([\n",
    "    tf.keras.layers.Dense(128, input_shape=( None, input_shape[1]), activation='relu'),\n",
    "    tf.keras.layers.Dense(64, activation='relu'),\n",
    "    tf.keras.layers.Dense(32, activation='relu'),\n",
    "    tf.keras.layers.Dense(16, activation='relu'),\n",
    "    tf.keras.layers.Dense(8, activation='relu'),\n",
    "    tf.keras.layers.Dense(4, activation='relu'),\n",
    "    tf.keras.layers.Dense(2, activation='relu'),\n",
    "    tf.keras.layers.Dense(1, activation='sigmoid')\n",
    "  ])\n",
    "\n",
    "model.summary()\n",
    "model.compile(optimizer=tf.keras.optimizers.Adam(), loss='binary_crossentropy', metrics=['accuracy'])"
   ]
  },
  {
   "cell_type": "code",
   "execution_count": 45,
   "metadata": {},
   "outputs": [
    {
     "name": "stdout",
     "output_type": "stream",
     "text": [
      "Epoch 1/50\n",
      "WARNING:tensorflow:Model was constructed with shape (None, None, 4807) for input KerasTensor(type_spec=TensorSpec(shape=(None, None, 4807), dtype=tf.float32, name='dense_40_input'), name='dense_40_input', description=\"created by layer 'dense_40_input'\"), but it was called on an input with incompatible shape (None, 4807).\n",
      "WARNING:tensorflow:Model was constructed with shape (None, None, 4807) for input KerasTensor(type_spec=TensorSpec(shape=(None, None, 4807), dtype=tf.float32, name='dense_40_input'), name='dense_40_input', description=\"created by layer 'dense_40_input'\"), but it was called on an input with incompatible shape (None, 4807).\n"
     ]
    },
    {
     "name": "stderr",
     "output_type": "stream",
     "text": [
      "2023-03-05 03:00:33.304598: I tensorflow/core/grappler/optimizers/custom_graph_optimizer_registry.cc:113] Plugin optimizer for device_type GPU is enabled.\n"
     ]
    },
    {
     "name": "stdout",
     "output_type": "stream",
     "text": [
      "159/159 [==============================] - ETA: 0s - loss: 0.3804 - accuracy: 0.8309WARNING:tensorflow:Model was constructed with shape (None, None, 4807) for input KerasTensor(type_spec=TensorSpec(shape=(None, None, 4807), dtype=tf.float32, name='dense_40_input'), name='dense_40_input', description=\"created by layer 'dense_40_input'\"), but it was called on an input with incompatible shape (None, 4807).\n"
     ]
    },
    {
     "name": "stderr",
     "output_type": "stream",
     "text": [
      "2023-03-05 03:00:35.836375: I tensorflow/core/grappler/optimizers/custom_graph_optimizer_registry.cc:113] Plugin optimizer for device_type GPU is enabled.\n"
     ]
    },
    {
     "name": "stdout",
     "output_type": "stream",
     "text": [
      "159/159 [==============================] - 3s 17ms/step - loss: 0.3804 - accuracy: 0.8309 - val_loss: 0.2037 - val_accuracy: 0.9195\n",
      "Epoch 2/50\n",
      "159/159 [==============================] - 2s 14ms/step - loss: 0.0840 - accuracy: 0.9730 - val_loss: 0.1870 - val_accuracy: 0.9305\n",
      "Epoch 3/50\n",
      "159/159 [==============================] - 2s 13ms/step - loss: 0.0230 - accuracy: 0.9947 - val_loss: 0.2512 - val_accuracy: 0.9298\n",
      "Epoch 4/50\n",
      "159/159 [==============================] - 2s 14ms/step - loss: 0.0047 - accuracy: 0.9990 - val_loss: 0.4175 - val_accuracy: 0.9211\n",
      "Epoch 5/50\n",
      "159/159 [==============================] - 2s 14ms/step - loss: 0.0047 - accuracy: 0.9984 - val_loss: 0.4288 - val_accuracy: 0.9124\n",
      "Epoch 6/50\n",
      "159/159 [==============================] - 2s 13ms/step - loss: 0.0158 - accuracy: 0.9951 - val_loss: 0.3310 - val_accuracy: 0.9227\n",
      "Epoch 7/50\n",
      "159/159 [==============================] - 2s 13ms/step - loss: 0.0210 - accuracy: 0.9937 - val_loss: 0.3179 - val_accuracy: 0.9203\n",
      "Epoch 8/50\n",
      "159/159 [==============================] - 2s 13ms/step - loss: 0.0059 - accuracy: 0.9978 - val_loss: 0.4111 - val_accuracy: 0.9155\n",
      "Epoch 9/50\n",
      "159/159 [==============================] - 2s 14ms/step - loss: 0.0082 - accuracy: 0.9972 - val_loss: 0.3685 - val_accuracy: 0.9234\n",
      "Epoch 10/50\n",
      "159/159 [==============================] - 2s 13ms/step - loss: 0.0012 - accuracy: 0.9998 - val_loss: 0.4122 - val_accuracy: 0.9250\n",
      "Epoch 11/50\n",
      "159/159 [==============================] - 2s 14ms/step - loss: 2.1834e-04 - accuracy: 1.0000 - val_loss: 0.4376 - val_accuracy: 0.9258\n",
      "Epoch 12/50\n",
      "159/159 [==============================] - 2s 13ms/step - loss: 1.1531e-04 - accuracy: 1.0000 - val_loss: 0.4584 - val_accuracy: 0.9250\n",
      "Epoch 13/50\n",
      "159/159 [==============================] - 2s 14ms/step - loss: 7.8120e-05 - accuracy: 1.0000 - val_loss: 0.4752 - val_accuracy: 0.9242\n",
      "Epoch 14/50\n",
      "159/159 [==============================] - 2s 14ms/step - loss: 5.8671e-05 - accuracy: 1.0000 - val_loss: 0.4893 - val_accuracy: 0.9242\n",
      "Epoch 15/50\n",
      "159/159 [==============================] - 2s 14ms/step - loss: 4.5833e-05 - accuracy: 1.0000 - val_loss: 0.5011 - val_accuracy: 0.9242\n",
      "Epoch 16/50\n",
      "159/159 [==============================] - 2s 13ms/step - loss: 3.6741e-05 - accuracy: 1.0000 - val_loss: 0.5119 - val_accuracy: 0.9242\n",
      "Epoch 17/50\n",
      "159/159 [==============================] - 2s 13ms/step - loss: 3.0055e-05 - accuracy: 1.0000 - val_loss: 0.5218 - val_accuracy: 0.9234\n",
      "Epoch 18/50\n",
      "159/159 [==============================] - 2s 12ms/step - loss: 2.4927e-05 - accuracy: 1.0000 - val_loss: 0.5312 - val_accuracy: 0.9234\n",
      "Epoch 19/50\n",
      "159/159 [==============================] - 2s 12ms/step - loss: 2.0923e-05 - accuracy: 1.0000 - val_loss: 0.5402 - val_accuracy: 0.9234\n",
      "Epoch 20/50\n",
      "159/159 [==============================] - 2s 13ms/step - loss: 1.7740e-05 - accuracy: 1.0000 - val_loss: 0.5485 - val_accuracy: 0.9234\n",
      "Epoch 21/50\n",
      "159/159 [==============================] - 2s 12ms/step - loss: 1.5051e-05 - accuracy: 1.0000 - val_loss: 0.5577 - val_accuracy: 0.9227\n",
      "Epoch 22/50\n",
      "159/159 [==============================] - 2s 15ms/step - loss: 1.2472e-05 - accuracy: 1.0000 - val_loss: 0.5710 - val_accuracy: 0.9234\n",
      "Epoch 23/50\n",
      "159/159 [==============================] - 2s 14ms/step - loss: 1.0208e-05 - accuracy: 1.0000 - val_loss: 0.5841 - val_accuracy: 0.9234\n",
      "Epoch 24/50\n",
      "159/159 [==============================] - 2s 12ms/step - loss: 8.2339e-06 - accuracy: 1.0000 - val_loss: 0.5996 - val_accuracy: 0.9242\n",
      "Epoch 25/50\n",
      "159/159 [==============================] - 2s 12ms/step - loss: 6.5976e-06 - accuracy: 1.0000 - val_loss: 0.6142 - val_accuracy: 0.9242\n",
      "Epoch 26/50\n",
      "159/159 [==============================] - 2s 12ms/step - loss: 5.3142e-06 - accuracy: 1.0000 - val_loss: 0.6302 - val_accuracy: 0.9242\n",
      "Epoch 27/50\n",
      "159/159 [==============================] - 2s 13ms/step - loss: 4.3231e-06 - accuracy: 1.0000 - val_loss: 0.6458 - val_accuracy: 0.9234\n",
      "Epoch 28/50\n",
      "159/159 [==============================] - 2s 14ms/step - loss: 3.5952e-06 - accuracy: 1.0000 - val_loss: 0.6588 - val_accuracy: 0.9234\n",
      "Epoch 29/50\n",
      "159/159 [==============================] - 2s 13ms/step - loss: 3.0237e-06 - accuracy: 1.0000 - val_loss: 0.6737 - val_accuracy: 0.9242\n",
      "Epoch 30/50\n",
      "159/159 [==============================] - 2s 12ms/step - loss: 2.5836e-06 - accuracy: 1.0000 - val_loss: 0.6861 - val_accuracy: 0.9242\n",
      "Epoch 31/50\n",
      "159/159 [==============================] - 2s 12ms/step - loss: 2.2332e-06 - accuracy: 1.0000 - val_loss: 0.6979 - val_accuracy: 0.9227\n",
      "Epoch 32/50\n",
      "159/159 [==============================] - 2s 12ms/step - loss: 1.9465e-06 - accuracy: 1.0000 - val_loss: 0.7083 - val_accuracy: 0.9227\n",
      "Epoch 33/50\n",
      "159/159 [==============================] - 2s 13ms/step - loss: 1.7098e-06 - accuracy: 1.0000 - val_loss: 0.7178 - val_accuracy: 0.9234\n",
      "Epoch 34/50\n",
      "159/159 [==============================] - 2s 13ms/step - loss: 1.5085e-06 - accuracy: 1.0000 - val_loss: 0.7271 - val_accuracy: 0.9234\n",
      "Epoch 35/50\n",
      "159/159 [==============================] - 2s 13ms/step - loss: 1.3355e-06 - accuracy: 1.0000 - val_loss: 0.7355 - val_accuracy: 0.9234\n",
      "Epoch 36/50\n",
      "159/159 [==============================] - 2s 12ms/step - loss: 1.1885e-06 - accuracy: 1.0000 - val_loss: 0.7448 - val_accuracy: 0.9234\n",
      "Epoch 37/50\n",
      "159/159 [==============================] - 2s 12ms/step - loss: 1.0623e-06 - accuracy: 1.0000 - val_loss: 0.7539 - val_accuracy: 0.9227\n",
      "Epoch 38/50\n",
      "159/159 [==============================] - 2s 12ms/step - loss: 9.5316e-07 - accuracy: 1.0000 - val_loss: 0.7619 - val_accuracy: 0.9227\n",
      "Epoch 39/50\n",
      "159/159 [==============================] - 2s 13ms/step - loss: 8.5647e-07 - accuracy: 1.0000 - val_loss: 0.7693 - val_accuracy: 0.9227\n",
      "Epoch 40/50\n",
      "159/159 [==============================] - 2s 13ms/step - loss: 7.7310e-07 - accuracy: 1.0000 - val_loss: 0.7772 - val_accuracy: 0.9227\n",
      "Epoch 41/50\n",
      "159/159 [==============================] - 2s 12ms/step - loss: 6.9819e-07 - accuracy: 1.0000 - val_loss: 0.7846 - val_accuracy: 0.9227\n",
      "Epoch 42/50\n",
      "159/159 [==============================] - 2s 12ms/step - loss: 6.3089e-07 - accuracy: 1.0000 - val_loss: 0.7913 - val_accuracy: 0.9227\n",
      "Epoch 43/50\n",
      "159/159 [==============================] - 2s 12ms/step - loss: 5.7025e-07 - accuracy: 1.0000 - val_loss: 0.7980 - val_accuracy: 0.9227\n",
      "Epoch 44/50\n",
      "159/159 [==============================] - 2s 13ms/step - loss: 5.1751e-07 - accuracy: 1.0000 - val_loss: 0.8057 - val_accuracy: 0.9227\n",
      "Epoch 45/50\n",
      "159/159 [==============================] - 2s 13ms/step - loss: 4.6984e-07 - accuracy: 1.0000 - val_loss: 0.8126 - val_accuracy: 0.9227\n",
      "Epoch 46/50\n",
      "159/159 [==============================] - 2s 14ms/step - loss: 4.2622e-07 - accuracy: 1.0000 - val_loss: 0.8191 - val_accuracy: 0.9227\n",
      "Epoch 47/50\n",
      "159/159 [==============================] - 2s 12ms/step - loss: 3.8724e-07 - accuracy: 1.0000 - val_loss: 0.8252 - val_accuracy: 0.9227\n",
      "Epoch 48/50\n",
      "159/159 [==============================] - 2s 12ms/step - loss: 3.5193e-07 - accuracy: 1.0000 - val_loss: 0.8316 - val_accuracy: 0.9227\n",
      "Epoch 49/50\n",
      "159/159 [==============================] - 2s 12ms/step - loss: 3.2044e-07 - accuracy: 1.0000 - val_loss: 0.8374 - val_accuracy: 0.9227\n",
      "Epoch 50/50\n",
      "159/159 [==============================] - 2s 12ms/step - loss: 2.9163e-07 - accuracy: 1.0000 - val_loss: 0.8429 - val_accuracy: 0.9227\n"
     ]
    }
   ],
   "source": [
    "# Training Deep Learning Model\n",
    "EPOCHS_VALUE = 50\n",
    "history = model.fit(X_train, y_train, epochs=EPOCHS_VALUE, validation_data=(X_test, y_test))"
   ]
  },
  {
   "cell_type": "code",
   "execution_count": 53,
   "metadata": {},
   "outputs": [
    {
     "name": "stdout",
     "output_type": "stream",
     "text": [
      "40/40 [==============================] - 0s 6ms/step - loss: 0.8429 - accuracy: 0.9227\n",
      "Test accuracy: 92.27%\n"
     ]
    }
   ],
   "source": [
    "# Evaluating Model with New Data\n",
    "results = model.evaluate(X_test, y_test)\n",
    "print('Test accuracy: {0:.2f}%'.format(results[1]*100))"
   ]
  },
  {
   "cell_type": "code",
   "execution_count": 54,
   "metadata": {},
   "outputs": [],
   "source": [
    "# Selecting Data About Model\n",
    "acc = history.history['accuracy']\n",
    "val_acc = history.history['val_accuracy']\n",
    "loss = history.history['loss']\n",
    "val_loss = history.history['val_loss']\n",
    "epochs_range = range(EPOCHS_VALUE)"
   ]
  },
  {
   "cell_type": "code",
   "execution_count": 55,
   "metadata": {},
   "outputs": [
    {
     "data": {
      "image/png": "[encoded data removed]",
      "text/plain": [
       "<Figure size 640x480 with 1 Axes>"
      ]
     },
     "metadata": {},
     "output_type": "display_data"
    }
   ],
   "source": [
    "#Plotting Accuracy Across Epochs\n",
    "acc = history.history['accuracy']\n",
    "val_acc = history.history['val_accuracy']\n",
    "loss = history.history['loss']\n",
    "val_loss = history.history['val_loss']\n",
    "plt.plot(epochs_range, acc, label='Training Accuracy')\n",
    "plt.plot(epochs_range, val_acc, label='Validation Accuracy')\n",
    "plt.xlabel(\"Epochs\")\n",
    "plt.ylabel(\"Accuracy\")\n",
    "plt.title('Training and Validation Accuracy')\n",
    "plt.legend()\n",
    "plt.show()"
   ]
  },
  {
   "cell_type": "code",
   "execution_count": 56,
   "metadata": {},
   "outputs": [
    {
     "data": {
      "image/png": "[encoded data removed]",
      "text/plain": [
       "<Figure size 640x480 with 1 Axes>"
      ]
     },
     "metadata": {},
     "output_type": "display_data"
    }
   ],
   "source": [
    "#Plotting Loss Across Epochs\n",
    "plt.plot(epochs_range, loss, label='Training Loss')\n",
    "plt.plot(epochs_range, val_loss, label='Validation Loss')\n",
    "plt.xlabel(\"Epochs\")\n",
    "plt.ylabel(\"Validation Loss\")\n",
    "plt.title('Training and Validation Loss')\n",
    "plt.legend()\n",
    "plt.show()"
   ]
  },
  {
   "cell_type": "code",
   "execution_count": 57,
   "metadata": {},
   "outputs": [
    {
     "name": "stdout",
     "output_type": "stream",
     "text": [
      "40/40 [==============================] - 0s 4ms/step\n"
     ]
    }
   ],
   "source": [
    "# Collecting Predictions with New Data\n",
    "y_pred = model.predict(X_test).round()"
   ]
  },
  {
   "cell_type": "code",
   "execution_count": 58,
   "metadata": {},
   "outputs": [
    {
     "data": {
      "image/png": "[encoded data removed]",
      "text/plain": [
       "<Figure size 640x480 with 2 Axes>"
      ]
     },
     "metadata": {},
     "output_type": "display_data"
    }
   ],
   "source": [
    "# Plotting Model's Confusion Matrix \n",
    "cm = confusion_matrix(y_test, y_pred)\n",
    "disp = ConfusionMatrixDisplay(confusion_matrix=cm)\n",
    "disp.plot(cmap=plt.cm.Blues)\n",
    "plt.show()"
   ]
  },
  {
   "cell_type": "code",
   "execution_count": 59,
   "metadata": {},
   "outputs": [
    {
     "name": "stdout",
     "output_type": "stream",
     "text": [
      "              precision    recall  f1-score   support\n",
      "\n",
      "        REAL       0.90      0.95      0.93       639\n",
      "        FAKE       0.95      0.89      0.92       628\n",
      "\n",
      "    accuracy                           0.92      1267\n",
      "   macro avg       0.92      0.92      0.92      1267\n",
      "weighted avg       0.92      0.92      0.92      1267\n",
      "\n"
     ]
    }
   ],
   "source": [
    "#Getting Classification Report on Model\n",
    "print(classification_report(y_test, y_pred, target_names=['REAL','FAKE',]))"
   ]
  },
  {
   "cell_type": "code",
   "execution_count": 60,
   "metadata": {},
   "outputs": [
    {
     "name": "stdout",
     "output_type": "stream",
     "text": [
      "INFO:tensorflow:Assets written to: ram://e55ddc7c-841e-421e-a469-7f646c58e24d/assets\n"
     ]
    }
   ],
   "source": [
    "#saving all the data and objects\n",
    "pickle.dump(vectorizer, open('vectorizer.pkl', 'wb'))\n",
    "pickle.dump(model, open('deepLearningModel.pkl', 'wb'))"
   ]
  }
 ],
 "metadata": {
  "kernelspec": {
   "display_name": "Python 3",
   "language": "python",
   "name": "python3"
  },
  "language_info": {
   "codemirror_mode": {
    "name": "ipython",
    "version": 3
   },
   "file_extension": ".py",
   "mimetype": "text/x-python",
   "name": "python",
   "nbconvert_exporter": "python",
   "pygments_lexer": "ipython3",
   "version": "3.10.9"
  },
  "orig_nbformat": 4
 },
 "nbformat": 4,
 "nbformat_minor": 2
}
